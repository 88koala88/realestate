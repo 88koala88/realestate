{
 "cells": [
  {
   "cell_type": "code",
   "execution_count": 17,
   "id": "b360ba3b",
   "metadata": {},
   "outputs": [
    {
     "name": "stdout",
     "output_type": "stream",
     "text": [
      "/home/ubuntu/realestate\n"
     ]
    }
   ],
   "source": [
    "import pandas as pd\n",
    "import os\n",
    "\n",
    "os.chdir(\"/home/ubuntu/realestate\")\n",
    "print(os.getcwd())"
   ]
  },
  {
   "cell_type": "markdown",
   "id": "540adb00",
   "metadata": {},
   "source": [
    "- [행안부 5월 1일자 법정동 코드](https://www.mois.go.kr/frt/bbs/type001/commonSelectBoardList.do?bbsId=BBSMSTR_000000000052)"
   ]
  },
  {
   "cell_type": "code",
   "execution_count": 19,
   "id": "f8137390",
   "metadata": {},
   "outputs": [],
   "source": [
    "data_raw = pd.read_excel('data/KIKcd_B.20230501.xlsx',\n",
    "                         dtype = {'법정동코드' : object})"
   ]
  },
  {
   "cell_type": "code",
   "execution_count": 20,
   "id": "153bf4aa",
   "metadata": {},
   "outputs": [
    {
     "data": {
      "text/html": [
       "<div>\n",
       "<style scoped>\n",
       "    .dataframe tbody tr th:only-of-type {\n",
       "        vertical-align: middle;\n",
       "    }\n",
       "\n",
       "    .dataframe tbody tr th {\n",
       "        vertical-align: top;\n",
       "    }\n",
       "\n",
       "    .dataframe thead th {\n",
       "        text-align: right;\n",
       "    }\n",
       "</style>\n",
       "<table border=\"1\" class=\"dataframe\">\n",
       "  <thead>\n",
       "    <tr style=\"text-align: right;\">\n",
       "      <th></th>\n",
       "      <th>법정동코드</th>\n",
       "      <th>시도명</th>\n",
       "      <th>시군구명</th>\n",
       "      <th>읍면동명</th>\n",
       "      <th>동리명</th>\n",
       "      <th>생성일자</th>\n",
       "      <th>말소일자</th>\n",
       "    </tr>\n",
       "  </thead>\n",
       "  <tbody>\n",
       "    <tr>\n",
       "      <th>0</th>\n",
       "      <td>1100000000</td>\n",
       "      <td>서울특별시</td>\n",
       "      <td>NaN</td>\n",
       "      <td>NaN</td>\n",
       "      <td>NaN</td>\n",
       "      <td>19880423</td>\n",
       "      <td>NaN</td>\n",
       "    </tr>\n",
       "    <tr>\n",
       "      <th>1</th>\n",
       "      <td>1111000000</td>\n",
       "      <td>서울특별시</td>\n",
       "      <td>종로구</td>\n",
       "      <td>NaN</td>\n",
       "      <td>NaN</td>\n",
       "      <td>19880423</td>\n",
       "      <td>NaN</td>\n",
       "    </tr>\n",
       "    <tr>\n",
       "      <th>2</th>\n",
       "      <td>1111010100</td>\n",
       "      <td>서울특별시</td>\n",
       "      <td>종로구</td>\n",
       "      <td>청운동</td>\n",
       "      <td>NaN</td>\n",
       "      <td>19880423</td>\n",
       "      <td>NaN</td>\n",
       "    </tr>\n",
       "    <tr>\n",
       "      <th>3</th>\n",
       "      <td>1111010200</td>\n",
       "      <td>서울특별시</td>\n",
       "      <td>종로구</td>\n",
       "      <td>신교동</td>\n",
       "      <td>NaN</td>\n",
       "      <td>19880423</td>\n",
       "      <td>NaN</td>\n",
       "    </tr>\n",
       "    <tr>\n",
       "      <th>4</th>\n",
       "      <td>1111010300</td>\n",
       "      <td>서울특별시</td>\n",
       "      <td>종로구</td>\n",
       "      <td>궁정동</td>\n",
       "      <td>NaN</td>\n",
       "      <td>19880423</td>\n",
       "      <td>NaN</td>\n",
       "    </tr>\n",
       "    <tr>\n",
       "      <th>...</th>\n",
       "      <td>...</td>\n",
       "      <td>...</td>\n",
       "      <td>...</td>\n",
       "      <td>...</td>\n",
       "      <td>...</td>\n",
       "      <td>...</td>\n",
       "      <td>...</td>\n",
       "    </tr>\n",
       "    <tr>\n",
       "      <th>20559</th>\n",
       "      <td>5013032022</td>\n",
       "      <td>제주특별자치도</td>\n",
       "      <td>서귀포시</td>\n",
       "      <td>표선면</td>\n",
       "      <td>하천리</td>\n",
       "      <td>20060701</td>\n",
       "      <td>NaN</td>\n",
       "    </tr>\n",
       "    <tr>\n",
       "      <th>20560</th>\n",
       "      <td>5013032023</td>\n",
       "      <td>제주특별자치도</td>\n",
       "      <td>서귀포시</td>\n",
       "      <td>표선면</td>\n",
       "      <td>성읍리</td>\n",
       "      <td>20060701</td>\n",
       "      <td>NaN</td>\n",
       "    </tr>\n",
       "    <tr>\n",
       "      <th>20561</th>\n",
       "      <td>5013032024</td>\n",
       "      <td>제주특별자치도</td>\n",
       "      <td>서귀포시</td>\n",
       "      <td>표선면</td>\n",
       "      <td>가시리</td>\n",
       "      <td>20060701</td>\n",
       "      <td>NaN</td>\n",
       "    </tr>\n",
       "    <tr>\n",
       "      <th>20562</th>\n",
       "      <td>5013032025</td>\n",
       "      <td>제주특별자치도</td>\n",
       "      <td>서귀포시</td>\n",
       "      <td>표선면</td>\n",
       "      <td>세화리</td>\n",
       "      <td>20060701</td>\n",
       "      <td>NaN</td>\n",
       "    </tr>\n",
       "    <tr>\n",
       "      <th>20563</th>\n",
       "      <td>5013032026</td>\n",
       "      <td>제주특별자치도</td>\n",
       "      <td>서귀포시</td>\n",
       "      <td>표선면</td>\n",
       "      <td>토산리</td>\n",
       "      <td>20060701</td>\n",
       "      <td>NaN</td>\n",
       "    </tr>\n",
       "  </tbody>\n",
       "</table>\n",
       "<p>20564 rows × 7 columns</p>\n",
       "</div>"
      ],
      "text/plain": [
       "            법정동코드      시도명  시군구명 읍면동명  동리명      생성일자  말소일자\n",
       "0      1100000000    서울특별시   NaN  NaN  NaN  19880423   NaN\n",
       "1      1111000000    서울특별시   종로구  NaN  NaN  19880423   NaN\n",
       "2      1111010100    서울특별시   종로구  청운동  NaN  19880423   NaN\n",
       "3      1111010200    서울특별시   종로구  신교동  NaN  19880423   NaN\n",
       "4      1111010300    서울특별시   종로구  궁정동  NaN  19880423   NaN\n",
       "...           ...      ...   ...  ...  ...       ...   ...\n",
       "20559  5013032022  제주특별자치도  서귀포시  표선면  하천리  20060701   NaN\n",
       "20560  5013032023  제주특별자치도  서귀포시  표선면  성읍리  20060701   NaN\n",
       "20561  5013032024  제주특별자치도  서귀포시  표선면  가시리  20060701   NaN\n",
       "20562  5013032025  제주특별자치도  서귀포시  표선면  세화리  20060701   NaN\n",
       "20563  5013032026  제주특별자치도  서귀포시  표선면  토산리  20060701   NaN\n",
       "\n",
       "[20564 rows x 7 columns]"
      ]
     },
     "execution_count": 20,
     "metadata": {},
     "output_type": "execute_result"
    }
   ],
   "source": [
    "data_raw"
   ]
  },
  {
   "cell_type": "code",
   "execution_count": 25,
   "id": "db23488f",
   "metadata": {},
   "outputs": [],
   "source": [
    "# 법정동코드를 통해 앞 5자리는 법정동시군구코드로, 뒷 5자리는 법정동읍면동코드로 전처리\n",
    "data_raw['법정동시군구코드'] = data_raw['법정동코드'].str[:5]\n",
    "data_raw['법정동읍면동코드'] = data_raw['법정동코드'].str[5:]"
   ]
  },
  {
   "cell_type": "code",
   "execution_count": 27,
   "id": "a1431e66",
   "metadata": {},
   "outputs": [],
   "source": [
    "# 법정동읍면동코드가 00000이 아닌 것만 제외하고, 인덱스 정상화\n",
    "data_raw_2 = data_raw[data_raw['법정동읍면동코드'] != '00000']\n",
    "data_raw_2 = data_raw_2.reset_index(drop = True)"
   ]
  },
  {
   "cell_type": "code",
   "execution_count": 33,
   "id": "bb2fe9f8",
   "metadata": {},
   "outputs": [],
   "source": [
    "data_raw_2.to_csv('data/regal_code.csv', index = False)"
   ]
  },
  {
   "cell_type": "code",
   "execution_count": null,
   "id": "f48aa989",
   "metadata": {},
   "outputs": [],
   "source": []
  }
 ],
 "metadata": {
  "kernelspec": {
   "display_name": "Python 3 (ipykernel)",
   "language": "python",
   "name": "python3"
  },
  "language_info": {
   "codemirror_mode": {
    "name": "ipython",
    "version": 3
   },
   "file_extension": ".py",
   "mimetype": "text/x-python",
   "name": "python",
   "nbconvert_exporter": "python",
   "pygments_lexer": "ipython3",
   "version": "3.9.13"
  },
  "toc": {
   "base_numbering": 1,
   "nav_menu": {},
   "number_sections": true,
   "sideBar": true,
   "skip_h1_title": false,
   "title_cell": "Table of Contents",
   "title_sidebar": "Contents",
   "toc_cell": false,
   "toc_position": {},
   "toc_section_display": true,
   "toc_window_display": false
  }
 },
 "nbformat": 4,
 "nbformat_minor": 5
}
