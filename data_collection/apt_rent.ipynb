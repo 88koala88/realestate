{
 "cells": [
  {
   "cell_type": "code",
   "execution_count": 27,
   "id": "d42a4df7",
   "metadata": {},
   "outputs": [
    {
     "name": "stdout",
     "output_type": "stream",
     "text": [
      "/home/ubuntu/realestate\n"
     ]
    }
   ],
   "source": [
    "import pandas as pd\n",
    "import requests\n",
    "import os\n",
    "from bs4 import BeautifulSoup as bs\n",
    "from datetime import datetime\n",
    "from time import sleep\n",
    "\n",
    "os.chdir(\"/home/ubuntu/realestate\")\n",
    "print(os.getcwd())"
   ]
  },
  {
   "cell_type": "code",
   "execution_count": 2,
   "id": "6dbdc791",
   "metadata": {},
   "outputs": [],
   "source": [
    "regal_code = pd.read_csv('data/regal_code.csv')\n",
    "\n",
    "regal_code_seoul = regal_code[regal_code['시도명'] == '서울특별시']\n",
    "regal_code_seoul = regal_code_seoul.reset_index(drop = True)\n",
    "regal_code_list = regal_code_seoul['법정동시군구코드'].unique()\n"
   ]
  },
  {
   "cell_type": "code",
   "execution_count": 3,
   "id": "b915a425",
   "metadata": {},
   "outputs": [
    {
     "data": {
      "text/plain": [
       "array(['종로구', '중구', '용산구', '성동구', '광진구', '동대문구', '중랑구', '성북구', '강북구',\n",
       "       '도봉구', '노원구', '은평구', '서대문구', '마포구', '양천구', '강서구', '구로구', '금천구',\n",
       "       '영등포구', '동작구', '관악구', '서초구', '강남구', '송파구', '강동구'], dtype=object)"
      ]
     },
     "execution_count": 3,
     "metadata": {},
     "output_type": "execute_result"
    }
   ],
   "source": [
    "regal_code_seoul['시군구명'].unique()"
   ]
  },
  {
   "cell_type": "code",
   "execution_count": 4,
   "id": "af6dfdac",
   "metadata": {},
   "outputs": [],
   "source": [
    "# 년도\n",
    "years = ['2020', '2021', '2022']\n",
    "\n",
    "# 월\n",
    "months = ['01', '02', '03', '04', '05', '06', '07', '08', '09', '10', '11', '12']"
   ]
  },
  {
   "cell_type": "code",
   "execution_count": 5,
   "id": "088a05c8",
   "metadata": {},
   "outputs": [],
   "source": [
    "# api 요청 변수 생성\n",
    "years_month_list = []\n",
    "\n",
    "for year in years :\n",
    "    for month in months :\n",
    "        year_month = str(year) + str(month)\n",
    "        years_month_list.append(year_month)"
   ]
  },
  {
   "cell_type": "code",
   "execution_count": 6,
   "id": "3ff64d9b",
   "metadata": {},
   "outputs": [
    {
     "data": {
      "text/plain": [
       "array([11110, 11140, 11170, 11200, 11215, 11230, 11260, 11290, 11305,\n",
       "       11320, 11350, 11380, 11410, 11440, 11470, 11500, 11530, 11545,\n",
       "       11560, 11590, 11620, 11650, 11680, 11710, 11740])"
      ]
     },
     "execution_count": 6,
     "metadata": {},
     "output_type": "execute_result"
    }
   ],
   "source": [
    "regal_code_list"
   ]
  },
  {
   "cell_type": "code",
   "execution_count": 7,
   "id": "67d7c69f",
   "metadata": {},
   "outputs": [
    {
     "data": {
      "text/plain": [
       "['202001',\n",
       " '202002',\n",
       " '202003',\n",
       " '202004',\n",
       " '202005',\n",
       " '202006',\n",
       " '202007',\n",
       " '202008',\n",
       " '202009',\n",
       " '202010',\n",
       " '202011',\n",
       " '202012',\n",
       " '202101',\n",
       " '202102',\n",
       " '202103',\n",
       " '202104',\n",
       " '202105',\n",
       " '202106',\n",
       " '202107',\n",
       " '202108',\n",
       " '202109',\n",
       " '202110',\n",
       " '202111',\n",
       " '202112',\n",
       " '202201',\n",
       " '202202',\n",
       " '202203',\n",
       " '202204',\n",
       " '202205',\n",
       " '202206',\n",
       " '202207',\n",
       " '202208',\n",
       " '202209',\n",
       " '202210',\n",
       " '202211',\n",
       " '202212']"
      ]
     },
     "execution_count": 7,
     "metadata": {},
     "output_type": "execute_result"
    }
   ],
   "source": [
    "years_month_list"
   ]
  },
  {
   "cell_type": "code",
   "execution_count": 8,
   "id": "1c5157c4",
   "metadata": {},
   "outputs": [],
   "source": [
    "api_key = 'gdCwHED9I7qCHpJ2Umgc5tRA7zwN%2Fjj0sirO0Tz%2BahYoxq5vAGa0aO83isENeZvplygxLnlwI9%2Fk0wkfMyfCWw%3D%3D'\n",
    "LAWD_CD_VAL = '11110'\n",
    "DEAL_YMD_VAL = '202001'"
   ]
  },
  {
   "cell_type": "code",
   "execution_count": 21,
   "id": "ce1b7e30",
   "metadata": {},
   "outputs": [],
   "source": [
    "# url = 'http://openapi.molit.go.kr:8081/OpenAPI_ToolInstallPackage/service/rest/RTMSOBJSvc/getRTMSDataSvcAptRent?'\n",
    "# params = 'serviceKey=' + api_key + '&' + \\\n",
    "#         'LAWD_CD=' + LAWD_CD_VAL + '&' + \\\n",
    "#         'DEAL_YMD=' + DEAL_YMD_VAL"
   ]
  },
  {
   "cell_type": "code",
   "execution_count": 22,
   "id": "c3e6f02e",
   "metadata": {},
   "outputs": [],
   "source": [
    "# # requests, BeautifulSoup 라이브러리를 사용한 데이터 수집\n",
    "# res = requests.get(url + params)\n",
    "# soup = bs(res.text, 'xml')\n",
    "# items = soup.find_all('item')"
   ]
  },
  {
   "cell_type": "code",
   "execution_count": 23,
   "id": "f7fbdaf6",
   "metadata": {},
   "outputs": [],
   "source": [
    "column_nm = [\n",
    "    '갱신요구권사용',\n",
    " '건축년도',\n",
    " '계약구분',\n",
    " '계약기간',\n",
    " '년',\n",
    " '법정동',\n",
    " '보증금액',\n",
    " '아파트',\n",
    " '월',\n",
    " '월세금액',\n",
    " '일',\n",
    " '전용면적',\n",
    " '종전계약보증금',\n",
    " '종전계약월세',\n",
    " '지번',\n",
    " '지역코드',\n",
    " '층'\n",
    " ]"
   ]
  },
  {
   "cell_type": "code",
   "execution_count": 25,
   "id": "5f8d8a58",
   "metadata": {},
   "outputs": [],
   "source": [
    "# total= pd.DataFrame()\n",
    "\n",
    "# # 수집된 데이터를 Pandas 데이터 프레임 형식으로 변환\n",
    "# for k in range(len(items)):\n",
    "#     df_raw = []\n",
    "#     for j in column_nm:\n",
    "#         # print(LAWD_CD_list[i],k,j) # 에러 파악 여부\n",
    "#         try:\n",
    "#             items_data = items[k].find(j).text\n",
    "#             df_raw.append(items_data)\n",
    "#         except:\n",
    "#             items_data = None\n",
    "#             df_raw.append(items_data)\n",
    "\n",
    "#     df = pd.DataFrame(df_raw).T\n",
    "#     df.columns = column_nm\n",
    "#     total = pd.concat([total, df])"
   ]
  },
  {
   "cell_type": "code",
   "execution_count": 28,
   "id": "bcc5e0aa",
   "metadata": {},
   "outputs": [
    {
     "name": "stdout",
     "output_type": "stream",
     "text": [
      "11110_202001\n",
      "data created\n",
      "success\n",
      "11110_202002\n",
      "data created\n",
      "success\n"
     ]
    }
   ],
   "source": [
    "if not os.path.exists(f'apt_rent'):        # apt_rent가 존재하지 않을 경우 \n",
    "    os.makedirs('apt_rent')                # apt_rent 디렉토리 생성\n",
    "    \n",
    "# total = pd.DataFrame()\n",
    "for regal_code_val in regal_code_list[0:1]:  # 법정동 코드\n",
    "    for year_month_val in years_month_list[0:2]: # 년월\n",
    "        print(f'{regal_code_val}_{year_month_val}')\n",
    "        \n",
    "        url = 'http://openapi.molit.go.kr:8081/OpenAPI_ToolInstallPackage/service/rest/RTMSOBJSvc/getRTMSDataSvcAptRent?'\n",
    "        params = 'serviceKey=' + api_key + '&' + \\\n",
    "        'LAWD_CD=' + LAWD_CD_VAL + '&' + \\\n",
    "        'DEAL_YMD=' + DEAL_YMD_VAL\n",
    "\n",
    "#         params = f'crtfc_key={api_key}&corp_code={corp_code_val}&bsns_year={bsns_year_val}&reprt_code={reprt_code_val}&fs_div={fs_div_val}'\n",
    "    \n",
    "        try:\n",
    "            \n",
    "            # requests, BeautifulSoup 라이브러리를 사용한 데이터 수집\n",
    "            res = requests.get(url + params)\n",
    "            soup = bs(res.text, 'xml')\n",
    "            items = soup.find_all('item')\n",
    "            \n",
    "            print('data created')\n",
    "            total = pd.DataFrame()\n",
    "\n",
    "            # 수집된 데이터를 Pandas 데이터 프레임 형식으로 변환\n",
    "            for k in range(len(items)):\n",
    "                df_raw = []\n",
    "                for j in column_nm:\n",
    "                    # print(LAWD_CD_list[i],k,j) # 에러 파악 여부\n",
    "                    try:\n",
    "                        items_data = items[k].find(j).text\n",
    "                        df_raw.append(items_data)\n",
    "                    except:\n",
    "                        items_data = None\n",
    "                        df_raw.append(items_data)\n",
    "\n",
    "                df = pd.DataFrame(df_raw).T\n",
    "                df.columns = column_nm\n",
    "                total = pd.concat([total, df])\n",
    "    \n",
    "\n",
    "            sleep(0.7)\n",
    "            \n",
    "#             print('to_csv')\n",
    "            total.to_csv(f'apt_rent/{regal_code_val}_{year_month_val}.csv',index = False)\n",
    "\n",
    "            \n",
    "#             df = pd.DataFrame([r_json][0]['list'])\n",
    "            \n",
    "#             df.to_csv(f'fnlttSinglAcntAll/{corp_code_val}_{bsns_year_val}_{reprt_code_val}_{fs_div_val}.csv', index = False)\n",
    "            \n",
    "            # log\n",
    "            now = datetime.now()\n",
    "            log_df = pd.DataFrame({\n",
    "                'regal_code':regal_code_val,\n",
    "                'year_month':year_month_val,\n",
    "                'time': now.strftime('%Y-%m-%d %H:%M:%S'),\n",
    "                'status': 'success'\n",
    "                            \n",
    "            },index = [0])\n",
    "            \n",
    "            if not os.path.exists(f'log_apt_rent.csv'):\n",
    "                log_df.to_csv(f'log_apt_rent.csv', index = False, mode = 'w')\n",
    "            else:\n",
    "                log_df.to_csv(f'log_apt_rent.csv', index = False, mode = 'a', header = False)    \n",
    "            print('success')\n",
    "            \n",
    "         \n",
    "        except:\n",
    "            # log\n",
    "            now = datetime.now()\n",
    "            log_df = pd.DataFrame({\n",
    "                'regal_code':regal_code_val,\n",
    "                'year_month':year_month_val,\n",
    "                'time': now.strftime('%Y-%m-%d %H:%M:%S'),\n",
    "                'status': 'failed'\n",
    "                            \n",
    "            },index = [0])\n",
    "            \n",
    "            if not os.path.exists(f'log_apt_rent.csv'):\n",
    "                log_df.to_csv(f'log_apt_rent.csv', index = False, mode = 'w')\n",
    "            else:\n",
    "                log_df.to_csv(f'log_apt_rent.csv', index = False, mode = 'a', header = False)    \n",
    "            \n",
    "          \n",
    "            print('failed')"
   ]
  }
 ],
 "metadata": {
  "kernelspec": {
   "display_name": "Python 3 (ipykernel)",
   "language": "python",
   "name": "python3"
  },
  "language_info": {
   "codemirror_mode": {
    "name": "ipython",
    "version": 3
   },
   "file_extension": ".py",
   "mimetype": "text/x-python",
   "name": "python",
   "nbconvert_exporter": "python",
   "pygments_lexer": "ipython3",
   "version": "3.9.13"
  },
  "toc": {
   "base_numbering": 1,
   "nav_menu": {},
   "number_sections": true,
   "sideBar": true,
   "skip_h1_title": false,
   "title_cell": "Table of Contents",
   "title_sidebar": "Contents",
   "toc_cell": false,
   "toc_position": {},
   "toc_section_display": true,
   "toc_window_display": false
  }
 },
 "nbformat": 4,
 "nbformat_minor": 5
}
