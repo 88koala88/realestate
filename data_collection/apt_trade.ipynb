{
 "cells": [
  {
   "cell_type": "code",
   "execution_count": 2,
   "id": "d42a4df7",
   "metadata": {},
   "outputs": [
    {
     "name": "stdout",
     "output_type": "stream",
     "text": [
      "/home/ubuntu/realestate\n"
     ]
    }
   ],
   "source": [
    "import pandas as pd\n",
    "import requests\n",
    "import os\n",
    "from bs4 import BeautifulSoup as bs\n",
    "\n",
    "os.chdir(\"/home/ubuntu/realestate\")\n",
    "print(os.getcwd())"
   ]
  },
  {
   "cell_type": "code",
   "execution_count": 3,
   "id": "6dbdc791",
   "metadata": {},
   "outputs": [],
   "source": [
    "regal_code = pd.read_csv('data/regal_code.csv')"
   ]
  },
  {
   "cell_type": "code",
   "execution_count": 13,
   "id": "4bff092e",
   "metadata": {},
   "outputs": [],
   "source": [
    "regal_code_seoul = regal_code[regal_code['시도명'] == '서울특별시']\n",
    "regal_code_seoul = regal_code_seoul.reset_index(drop = True)"
   ]
  },
  {
   "cell_type": "code",
   "execution_count": 16,
   "id": "3aa5d3d0",
   "metadata": {},
   "outputs": [],
   "source": [
    "regal_code_list = regal_code_seoul['법정동시군구코드'].unique()"
   ]
  },
  {
   "cell_type": "code",
   "execution_count": 23,
   "id": "b915a425",
   "metadata": {},
   "outputs": [
    {
     "data": {
      "text/plain": [
       "array(['종로구', '중구', '용산구', '성동구', '광진구', '동대문구', '중랑구', '성북구', '강북구',\n",
       "       '도봉구', '노원구', '은평구', '서대문구', '마포구', '양천구', '강서구', '구로구', '금천구',\n",
       "       '영등포구', '동작구', '관악구', '서초구', '강남구', '송파구', '강동구'], dtype=object)"
      ]
     },
     "execution_count": 23,
     "metadata": {},
     "output_type": "execute_result"
    }
   ],
   "source": [
    "regal_code_seoul['시군구명'].unique()"
   ]
  },
  {
   "cell_type": "code",
   "execution_count": 27,
   "id": "af6dfdac",
   "metadata": {},
   "outputs": [],
   "source": [
    "# 년도\n",
    "years = ['2020', '2021', '2022']\n",
    "\n",
    "# 월\n",
    "months = ['01', '02', '03', '04', '05', '06', '07', '08', '09', '10', '11', '12']"
   ]
  },
  {
   "cell_type": "code",
   "execution_count": 29,
   "id": "088a05c8",
   "metadata": {},
   "outputs": [],
   "source": [
    "# api 요청 변수 생성\n",
    "years_month_list = []\n",
    "\n",
    "for year in years :\n",
    "    for month in months :\n",
    "        year_month = str(year) + str(month)\n",
    "        years_month_list.append(year_month)"
   ]
  },
  {
   "cell_type": "code",
   "execution_count": 31,
   "id": "3ff64d9b",
   "metadata": {},
   "outputs": [
    {
     "data": {
      "text/plain": [
       "array([11110, 11140, 11170, 11200, 11215, 11230, 11260, 11290, 11305,\n",
       "       11320, 11350, 11380, 11410, 11440, 11470, 11500, 11530, 11545,\n",
       "       11560, 11590, 11620, 11650, 11680, 11710, 11740])"
      ]
     },
     "execution_count": 31,
     "metadata": {},
     "output_type": "execute_result"
    }
   ],
   "source": [
    "regal_code_list"
   ]
  },
  {
   "cell_type": "code",
   "execution_count": 32,
   "id": "67d7c69f",
   "metadata": {},
   "outputs": [
    {
     "data": {
      "text/plain": [
       "['202001',\n",
       " '202002',\n",
       " '202003',\n",
       " '202004',\n",
       " '202005',\n",
       " '202006',\n",
       " '202007',\n",
       " '202008',\n",
       " '202009',\n",
       " '202010',\n",
       " '202011',\n",
       " '202012',\n",
       " '202101',\n",
       " '202102',\n",
       " '202103',\n",
       " '202104',\n",
       " '202105',\n",
       " '202106',\n",
       " '202107',\n",
       " '202108',\n",
       " '202109',\n",
       " '202110',\n",
       " '202111',\n",
       " '202112',\n",
       " '202201',\n",
       " '202202',\n",
       " '202203',\n",
       " '202204',\n",
       " '202205',\n",
       " '202206',\n",
       " '202207',\n",
       " '202208',\n",
       " '202209',\n",
       " '202210',\n",
       " '202211',\n",
       " '202212']"
      ]
     },
     "execution_count": 32,
     "metadata": {},
     "output_type": "execute_result"
    }
   ],
   "source": [
    "years_month_list"
   ]
  },
  {
   "cell_type": "code",
   "execution_count": null,
   "id": "1c5157c4",
   "metadata": {},
   "outputs": [],
   "source": [
    "api_key = 'gdCwHED9I7qCHpJ2Umgc5tRA7zwN%2Fjj0sirO0Tz%2BahYoxq5vAGa0aO83isENeZvplygxLnlwI9%2Fk0wkfMyfCWw%3D%3D'\n",
    "LAWD_CD_VAL = '11110'\n",
    "DEAL_YMD_VAL = '202201'"
   ]
  },
  {
   "cell_type": "code",
   "execution_count": null,
   "id": "ce1b7e30",
   "metadata": {},
   "outputs": [],
   "source": [
    "url = 'http://openapi.molit.go.kr:8081/OpenAPI_ToolInstallPackage/service/rest/RTMSOBJSvc/getRTMSDataSvcRHTrade?'\n",
    "params = 'serviceKey=' + api_key + '&' + \\\n",
    "        'LAWD_CD=' + LAWD_CD_VAL + '&' + \\\n",
    "        'DEAL_YMD=' + DEAL_YMD_VAL"
   ]
  }
 ],
 "metadata": {
  "kernelspec": {
   "display_name": "Python 3 (ipykernel)",
   "language": "python",
   "name": "python3"
  },
  "language_info": {
   "codemirror_mode": {
    "name": "ipython",
    "version": 3
   },
   "file_extension": ".py",
   "mimetype": "text/x-python",
   "name": "python",
   "nbconvert_exporter": "python",
   "pygments_lexer": "ipython3",
   "version": "3.9.13"
  },
  "toc": {
   "base_numbering": 1,
   "nav_menu": {},
   "number_sections": true,
   "sideBar": true,
   "skip_h1_title": false,
   "title_cell": "Table of Contents",
   "title_sidebar": "Contents",
   "toc_cell": false,
   "toc_position": {},
   "toc_section_display": true,
   "toc_window_display": false
  }
 },
 "nbformat": 4,
 "nbformat_minor": 5
}
