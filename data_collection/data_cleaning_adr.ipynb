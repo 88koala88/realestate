{
 "cells": [
  {
   "cell_type": "code",
   "execution_count": 35,
   "id": "8e5d8b7c",
   "metadata": {},
   "outputs": [
    {
     "name": "stdout",
     "output_type": "stream",
     "text": [
      "/home/ubuntu/realestate\n"
     ]
    }
   ],
   "source": [
    "import pandas as pd\n",
    "import os\n",
    "import geopandas as gpd\n",
    "import glob\n",
    "import plotly.express as px\n",
    "import plotly.graph_objects as go\n",
    "import folium\n",
    "import json\n",
    "import math\n",
    "import numpy as np\n",
    "import json\n",
    "import requests\n",
    "\n",
    "os.chdir(\"/home/ubuntu/realestate\")\n",
    "print(os.getcwd())"
   ]
  },
  {
   "cell_type": "code",
   "execution_count": 36,
   "id": "7709f7b7",
   "metadata": {},
   "outputs": [],
   "source": [
    "api_key = '66be80af3672f1fd2d43413af6e1588b'\n",
    "\n",
    "def addr_to_lat_lon(addr):\n",
    "    url = 'https://dapi.kakao.com/v2/local/search/address.json?query={address}'.format(address=addr)\n",
    "    headers = {\"Authorization\": \"KakaoAK \" + api_key}\n",
    "    result = json.loads(str(requests.get(url, headers=headers).text))\n",
    "    lat_lon = pd.DataFrame(match_first, index = [0])\n",
    "    lat_lon = lat_lon[['x','y']]\n",
    "    lat_lon['주소'] = addr\n",
    "    return lat_lon\n"
   ]
  },
  {
   "cell_type": "code",
   "execution_count": 37,
   "id": "a01b9740",
   "metadata": {},
   "outputs": [],
   "source": [
    "AptRent_Total = pd.read_csv(\"data/AptRent_Total.csv\")\n",
    "AptTrade_Total = pd.read_csv(\"data/AptTrade_Total.csv\")\n",
    "regal_code = pd.read_csv('data/regal_code.csv')\n",
    "\n"
   ]
  },
  {
   "cell_type": "code",
   "execution_count": 38,
   "id": "df2dac69",
   "metadata": {},
   "outputs": [],
   "source": [
    "AptRent_Total = AptRent_Total.drop(['갱신요구권사용','계약구분','종전계약보증금','종전계약월세'], axis=1)\n",
    "AptTrade_Total = AptTrade_Total.drop(['거래유형','중개사소재지','해제사유발생일','해제여부'], axis=1)"
   ]
  },
  {
   "cell_type": "code",
   "execution_count": 39,
   "id": "c1fcc197",
   "metadata": {},
   "outputs": [
    {
     "data": {
      "text/html": [
       "<div>\n",
       "<style scoped>\n",
       "    .dataframe tbody tr th:only-of-type {\n",
       "        vertical-align: middle;\n",
       "    }\n",
       "\n",
       "    .dataframe tbody tr th {\n",
       "        vertical-align: top;\n",
       "    }\n",
       "\n",
       "    .dataframe thead th {\n",
       "        text-align: right;\n",
       "    }\n",
       "</style>\n",
       "<table border=\"1\" class=\"dataframe\">\n",
       "  <thead>\n",
       "    <tr style=\"text-align: right;\">\n",
       "      <th></th>\n",
       "      <th>법정동코드</th>\n",
       "      <th>시도명</th>\n",
       "      <th>시군구명</th>\n",
       "      <th>읍면동명</th>\n",
       "      <th>동리명</th>\n",
       "      <th>생성일자</th>\n",
       "      <th>말소일자</th>\n",
       "      <th>지역코드</th>\n",
       "      <th>법정동읍면동코드</th>\n",
       "      <th>주소</th>\n",
       "    </tr>\n",
       "  </thead>\n",
       "  <tbody>\n",
       "    <tr>\n",
       "      <th>0</th>\n",
       "      <td>1111010100</td>\n",
       "      <td>서울특별시</td>\n",
       "      <td>종로구</td>\n",
       "      <td>청운동</td>\n",
       "      <td></td>\n",
       "      <td>19880423</td>\n",
       "      <td></td>\n",
       "      <td>11110</td>\n",
       "      <td>10100</td>\n",
       "      <td>서울특별시 종로구 청운동</td>\n",
       "    </tr>\n",
       "    <tr>\n",
       "      <th>1</th>\n",
       "      <td>1111010200</td>\n",
       "      <td>서울특별시</td>\n",
       "      <td>종로구</td>\n",
       "      <td>신교동</td>\n",
       "      <td></td>\n",
       "      <td>19880423</td>\n",
       "      <td></td>\n",
       "      <td>11110</td>\n",
       "      <td>10200</td>\n",
       "      <td>서울특별시 종로구 신교동</td>\n",
       "    </tr>\n",
       "    <tr>\n",
       "      <th>2</th>\n",
       "      <td>1111010300</td>\n",
       "      <td>서울특별시</td>\n",
       "      <td>종로구</td>\n",
       "      <td>궁정동</td>\n",
       "      <td></td>\n",
       "      <td>19880423</td>\n",
       "      <td></td>\n",
       "      <td>11110</td>\n",
       "      <td>10300</td>\n",
       "      <td>서울특별시 종로구 궁정동</td>\n",
       "    </tr>\n",
       "    <tr>\n",
       "      <th>3</th>\n",
       "      <td>1111010400</td>\n",
       "      <td>서울특별시</td>\n",
       "      <td>종로구</td>\n",
       "      <td>효자동</td>\n",
       "      <td></td>\n",
       "      <td>19880423</td>\n",
       "      <td></td>\n",
       "      <td>11110</td>\n",
       "      <td>10400</td>\n",
       "      <td>서울특별시 종로구 효자동</td>\n",
       "    </tr>\n",
       "    <tr>\n",
       "      <th>4</th>\n",
       "      <td>1111010500</td>\n",
       "      <td>서울특별시</td>\n",
       "      <td>종로구</td>\n",
       "      <td>창성동</td>\n",
       "      <td></td>\n",
       "      <td>19880423</td>\n",
       "      <td></td>\n",
       "      <td>11110</td>\n",
       "      <td>10500</td>\n",
       "      <td>서울특별시 종로구 창성동</td>\n",
       "    </tr>\n",
       "    <tr>\n",
       "      <th>...</th>\n",
       "      <td>...</td>\n",
       "      <td>...</td>\n",
       "      <td>...</td>\n",
       "      <td>...</td>\n",
       "      <td>...</td>\n",
       "      <td>...</td>\n",
       "      <td>...</td>\n",
       "      <td>...</td>\n",
       "      <td>...</td>\n",
       "      <td>...</td>\n",
       "    </tr>\n",
       "    <tr>\n",
       "      <th>20273</th>\n",
       "      <td>5013032022</td>\n",
       "      <td>제주특별자치도</td>\n",
       "      <td>서귀포시</td>\n",
       "      <td>표선면</td>\n",
       "      <td>하천리</td>\n",
       "      <td>20060701</td>\n",
       "      <td></td>\n",
       "      <td>50130</td>\n",
       "      <td>32022</td>\n",
       "      <td>제주특별자치도 서귀포시 표선면 하천리</td>\n",
       "    </tr>\n",
       "    <tr>\n",
       "      <th>20274</th>\n",
       "      <td>5013032023</td>\n",
       "      <td>제주특별자치도</td>\n",
       "      <td>서귀포시</td>\n",
       "      <td>표선면</td>\n",
       "      <td>성읍리</td>\n",
       "      <td>20060701</td>\n",
       "      <td></td>\n",
       "      <td>50130</td>\n",
       "      <td>32023</td>\n",
       "      <td>제주특별자치도 서귀포시 표선면 성읍리</td>\n",
       "    </tr>\n",
       "    <tr>\n",
       "      <th>20275</th>\n",
       "      <td>5013032024</td>\n",
       "      <td>제주특별자치도</td>\n",
       "      <td>서귀포시</td>\n",
       "      <td>표선면</td>\n",
       "      <td>가시리</td>\n",
       "      <td>20060701</td>\n",
       "      <td></td>\n",
       "      <td>50130</td>\n",
       "      <td>32024</td>\n",
       "      <td>제주특별자치도 서귀포시 표선면 가시리</td>\n",
       "    </tr>\n",
       "    <tr>\n",
       "      <th>20276</th>\n",
       "      <td>5013032025</td>\n",
       "      <td>제주특별자치도</td>\n",
       "      <td>서귀포시</td>\n",
       "      <td>표선면</td>\n",
       "      <td>세화리</td>\n",
       "      <td>20060701</td>\n",
       "      <td></td>\n",
       "      <td>50130</td>\n",
       "      <td>32025</td>\n",
       "      <td>제주특별자치도 서귀포시 표선면 세화리</td>\n",
       "    </tr>\n",
       "    <tr>\n",
       "      <th>20277</th>\n",
       "      <td>5013032026</td>\n",
       "      <td>제주특별자치도</td>\n",
       "      <td>서귀포시</td>\n",
       "      <td>표선면</td>\n",
       "      <td>토산리</td>\n",
       "      <td>20060701</td>\n",
       "      <td></td>\n",
       "      <td>50130</td>\n",
       "      <td>32026</td>\n",
       "      <td>제주특별자치도 서귀포시 표선면 토산리</td>\n",
       "    </tr>\n",
       "  </tbody>\n",
       "</table>\n",
       "<p>20278 rows × 10 columns</p>\n",
       "</div>"
      ],
      "text/plain": [
       "            법정동코드      시도명  시군구명 읍면동명  동리명      생성일자 말소일자   지역코드  법정동읍면동코드  \\\n",
       "0      1111010100    서울특별시   종로구  청운동       19880423       11110     10100   \n",
       "1      1111010200    서울특별시   종로구  신교동       19880423       11110     10200   \n",
       "2      1111010300    서울특별시   종로구  궁정동       19880423       11110     10300   \n",
       "3      1111010400    서울특별시   종로구  효자동       19880423       11110     10400   \n",
       "4      1111010500    서울특별시   종로구  창성동       19880423       11110     10500   \n",
       "...           ...      ...   ...  ...  ...       ...  ...    ...       ...   \n",
       "20273  5013032022  제주특별자치도  서귀포시  표선면  하천리  20060701       50130     32022   \n",
       "20274  5013032023  제주특별자치도  서귀포시  표선면  성읍리  20060701       50130     32023   \n",
       "20275  5013032024  제주특별자치도  서귀포시  표선면  가시리  20060701       50130     32024   \n",
       "20276  5013032025  제주특별자치도  서귀포시  표선면  세화리  20060701       50130     32025   \n",
       "20277  5013032026  제주특별자치도  서귀포시  표선면  토산리  20060701       50130     32026   \n",
       "\n",
       "                         주소  \n",
       "0             서울특별시 종로구 청운동  \n",
       "1             서울특별시 종로구 신교동  \n",
       "2             서울특별시 종로구 궁정동  \n",
       "3             서울특별시 종로구 효자동  \n",
       "4             서울특별시 종로구 창성동  \n",
       "...                     ...  \n",
       "20273  제주특별자치도 서귀포시 표선면 하천리  \n",
       "20274  제주특별자치도 서귀포시 표선면 성읍리  \n",
       "20275  제주특별자치도 서귀포시 표선면 가시리  \n",
       "20276  제주특별자치도 서귀포시 표선면 세화리  \n",
       "20277  제주특별자치도 서귀포시 표선면 토산리  \n",
       "\n",
       "[20278 rows x 10 columns]"
      ]
     },
     "execution_count": 39,
     "metadata": {},
     "output_type": "execute_result"
    }
   ],
   "source": [
    "regal_code = regal_code.rename(columns={\"법정동시군구코드\":\"지역코드\"})\n",
    "regal_code = regal_code.where(pd.notnull(regal_code), \" \")\n",
    "\n",
    "regal_code['시도명'] = regal_code['시도명'].str.strip()\n",
    "regal_code['시군구명'] = regal_code['시군구명'].str.strip()\n",
    "regal_code['읍면동명'] = regal_code['읍면동명'].str.strip()\n",
    "regal_code['동리명'] = regal_code['동리명'].str.strip()\n",
    "\n",
    "regal_code['주소'] = regal_code['시도명'] + \" \" + \\\n",
    "                       regal_code['시군구명'] + \" \" + \\\n",
    "                       regal_code['읍면동명'] + \" \" + \\\n",
    "                       regal_code['동리명']\n",
    "\n",
    "regal_code['주소'] = regal_code['주소'].str.replace('  ', ' ')\n",
    "regal_code['주소'] = regal_code['주소'].str.strip()\n",
    "regal_code"
   ]
  },
  {
   "cell_type": "markdown",
   "id": "68e49bb0",
   "metadata": {},
   "source": [
    "### 법정동 코드와 merge\n",
    "\n",
    "- 지역코드 를 key로 merge하여 시군구명과 주소를 붙힘\n",
    "\n",
    "#### 1차 머지 주소만 생성"
   ]
  },
  {
   "cell_type": "code",
   "execution_count": 40,
   "id": "bed62cae",
   "metadata": {},
   "outputs": [],
   "source": [
    "regal_key_value = regal_code[['지역코드', '시군구명']].drop_duplicates().reset_index(drop = True)"
   ]
  },
  {
   "cell_type": "code",
   "execution_count": 41,
   "id": "8406930e",
   "metadata": {},
   "outputs": [],
   "source": [
    "AptRent_Total_2 = pd.merge(AptRent_Total,regal_key_value,\n",
    "                            on = '지역코드',\n",
    "                            how = 'left')\n",
    "\n",
    "AptRent_Total_2['주소'] = \"서울특별시 \" + AptRent_Total_2['시군구명'] + \" \" + \\\n",
    "                       AptRent_Total_2['법정동']  + \" \" + \\\n",
    "                       AptRent_Total_2['지번']  + \" \" + \\\n",
    "                       AptRent_Total_2['아파트']\n"
   ]
  },
  {
   "cell_type": "code",
   "execution_count": 42,
   "id": "8ca7c42b",
   "metadata": {},
   "outputs": [],
   "source": [
    "AptTrade_Total_2 = pd.merge(AptTrade_Total,regal_key_value,\n",
    "                            on = '지역코드',\n",
    "                            how = 'left')\n",
    "\n",
    "AptTrade_Total_2['주소'] = \"서울특별시 \" + AptTrade_Total_2['시군구명'] + \" \" + \\\n",
    "                       AptTrade_Total_2['법정동']  + \" \" + \\\n",
    "                       AptTrade_Total_2['지번']  + \" \" + \\\n",
    "                       AptTrade_Total_2['아파트']\n"
   ]
  },
  {
   "cell_type": "code",
   "execution_count": 43,
   "id": "27019e73",
   "metadata": {},
   "outputs": [
    {
     "data": {
      "text/plain": [
       "7663"
      ]
     },
     "execution_count": 43,
     "metadata": {},
     "output_type": "execute_result"
    }
   ],
   "source": [
    "len(AptTrade_Total_2['주소'].unique())"
   ]
  },
  {
   "cell_type": "markdown",
   "id": "f14b5722",
   "metadata": {},
   "source": [
    "### 2차 머지: 주소를 고유값으로 변경 하여, 위경도 생성"
   ]
  },
  {
   "cell_type": "code",
   "execution_count": 44,
   "id": "d11edb10",
   "metadata": {},
   "outputs": [],
   "source": [
    "AptTrade_addr_list = AptTrade_Total_2['주소'].unique()"
   ]
  },
  {
   "cell_type": "code",
   "execution_count": 45,
   "id": "94a4b5c2",
   "metadata": {},
   "outputs": [],
   "source": [
    "AptRent_addr_list = AptRent_Total_2['주소'].unique()"
   ]
  },
  {
   "cell_type": "code",
   "execution_count": 46,
   "id": "a29a2a1f",
   "metadata": {
    "scrolled": true
   },
   "outputs": [
    {
     "name": "stdout",
     "output_type": "stream",
     "text": [
      "서울특별시 종로구  필운동 254 신동아블루아광화문의꿈\n"
     ]
    },
    {
     "ename": "ValueError",
     "evalue": "If using all scalar values, you must pass an index",
     "output_type": "error",
     "traceback": [
      "\u001b[0;31m---------------------------------------------------------------------------\u001b[0m",
      "\u001b[0;31mNameError\u001b[0m                                 Traceback (most recent call last)",
      "\u001b[0;32m/tmp/ipykernel_2028/2702484706.py\u001b[0m in \u001b[0;36m<module>\u001b[0;34m\u001b[0m\n\u001b[1;32m      7\u001b[0m         \u001b[0;31m# addr_to_lat_lon함수를 사용하여 위경도 추출\u001b[0m\u001b[0;34m\u001b[0m\u001b[0;34m\u001b[0m\u001b[0m\n\u001b[0;32m----> 8\u001b[0;31m         \u001b[0mdf\u001b[0m \u001b[0;34m=\u001b[0m \u001b[0maddr_to_lat_lon\u001b[0m\u001b[0;34m(\u001b[0m\u001b[0maddr_to_lat_lon\u001b[0m\u001b[0;34m)\u001b[0m\u001b[0;34m\u001b[0m\u001b[0;34m\u001b[0m\u001b[0m\n\u001b[0m\u001b[1;32m      9\u001b[0m         \u001b[0;31m# pd.concat를 사용하여 total_addr에 붙힘\u001b[0m\u001b[0;34m\u001b[0m\u001b[0;34m\u001b[0m\u001b[0m\n",
      "\u001b[0;32m/tmp/ipykernel_2028/3735497031.py\u001b[0m in \u001b[0;36maddr_to_lat_lon\u001b[0;34m(addr)\u001b[0m\n\u001b[1;32m      6\u001b[0m     \u001b[0mresult\u001b[0m \u001b[0;34m=\u001b[0m \u001b[0mjson\u001b[0m\u001b[0;34m.\u001b[0m\u001b[0mloads\u001b[0m\u001b[0;34m(\u001b[0m\u001b[0mstr\u001b[0m\u001b[0;34m(\u001b[0m\u001b[0mrequests\u001b[0m\u001b[0;34m.\u001b[0m\u001b[0mget\u001b[0m\u001b[0;34m(\u001b[0m\u001b[0murl\u001b[0m\u001b[0;34m,\u001b[0m \u001b[0mheaders\u001b[0m\u001b[0;34m=\u001b[0m\u001b[0mheaders\u001b[0m\u001b[0;34m)\u001b[0m\u001b[0;34m.\u001b[0m\u001b[0mtext\u001b[0m\u001b[0;34m)\u001b[0m\u001b[0;34m)\u001b[0m\u001b[0;34m\u001b[0m\u001b[0;34m\u001b[0m\u001b[0m\n\u001b[0;32m----> 7\u001b[0;31m     \u001b[0mlat_lon\u001b[0m \u001b[0;34m=\u001b[0m \u001b[0mpd\u001b[0m\u001b[0;34m.\u001b[0m\u001b[0mDataFrame\u001b[0m\u001b[0;34m(\u001b[0m\u001b[0mmatch_first\u001b[0m\u001b[0;34m,\u001b[0m \u001b[0mindex\u001b[0m \u001b[0;34m=\u001b[0m \u001b[0;34m[\u001b[0m\u001b[0;36m0\u001b[0m\u001b[0;34m]\u001b[0m\u001b[0;34m)\u001b[0m\u001b[0;34m\u001b[0m\u001b[0;34m\u001b[0m\u001b[0m\n\u001b[0m\u001b[1;32m      8\u001b[0m     \u001b[0mlat_lon\u001b[0m \u001b[0;34m=\u001b[0m \u001b[0mlat_lon\u001b[0m\u001b[0;34m[\u001b[0m\u001b[0;34m[\u001b[0m\u001b[0;34m'x'\u001b[0m\u001b[0;34m,\u001b[0m\u001b[0;34m'y'\u001b[0m\u001b[0;34m]\u001b[0m\u001b[0;34m]\u001b[0m\u001b[0;34m\u001b[0m\u001b[0;34m\u001b[0m\u001b[0m\n",
      "\u001b[0;31mNameError\u001b[0m: name 'match_first' is not defined",
      "\nDuring handling of the above exception, another exception occurred:\n",
      "\u001b[0;31mValueError\u001b[0m                                Traceback (most recent call last)",
      "\u001b[0;32m/tmp/ipykernel_2028/2702484706.py\u001b[0m in \u001b[0;36m<module>\u001b[0;34m\u001b[0m\n\u001b[1;32m     10\u001b[0m         \u001b[0mtotal_addr\u001b[0m \u001b[0;34m=\u001b[0m \u001b[0mpd\u001b[0m\u001b[0;34m.\u001b[0m\u001b[0mconcat\u001b[0m\u001b[0;34m(\u001b[0m\u001b[0;34m[\u001b[0m\u001b[0mtotal_addr\u001b[0m\u001b[0;34m,\u001b[0m \u001b[0mdf\u001b[0m\u001b[0;34m]\u001b[0m\u001b[0;34m)\u001b[0m\u001b[0;34m\u001b[0m\u001b[0;34m\u001b[0m\u001b[0m\n\u001b[1;32m     11\u001b[0m     \u001b[0;32mexcept\u001b[0m\u001b[0;34m:\u001b[0m\u001b[0;34m\u001b[0m\u001b[0;34m\u001b[0m\u001b[0m\n\u001b[0;32m---> 12\u001b[0;31m         df = pd.DataFrame({'x': '0',\n\u001b[0m\u001b[1;32m     13\u001b[0m                            \u001b[0;34m'y'\u001b[0m\u001b[0;34m:\u001b[0m \u001b[0;34m'0'\u001b[0m\u001b[0;34m,\u001b[0m\u001b[0;34m\u001b[0m\u001b[0;34m\u001b[0m\u001b[0m\n\u001b[1;32m     14\u001b[0m                           '주소': addr})\n",
      "\u001b[0;32m~/anaconda3/lib/python3.9/site-packages/pandas/core/frame.py\u001b[0m in \u001b[0;36m__init__\u001b[0;34m(self, data, index, columns, dtype, copy)\u001b[0m\n\u001b[1;32m    634\u001b[0m         \u001b[0;32melif\u001b[0m \u001b[0misinstance\u001b[0m\u001b[0;34m(\u001b[0m\u001b[0mdata\u001b[0m\u001b[0;34m,\u001b[0m \u001b[0mdict\u001b[0m\u001b[0;34m)\u001b[0m\u001b[0;34m:\u001b[0m\u001b[0;34m\u001b[0m\u001b[0;34m\u001b[0m\u001b[0m\n\u001b[1;32m    635\u001b[0m             \u001b[0;31m# GH#38939 de facto copy defaults to False only in non-dict cases\u001b[0m\u001b[0;34m\u001b[0m\u001b[0;34m\u001b[0m\u001b[0m\n\u001b[0;32m--> 636\u001b[0;31m             \u001b[0mmgr\u001b[0m \u001b[0;34m=\u001b[0m \u001b[0mdict_to_mgr\u001b[0m\u001b[0;34m(\u001b[0m\u001b[0mdata\u001b[0m\u001b[0;34m,\u001b[0m \u001b[0mindex\u001b[0m\u001b[0;34m,\u001b[0m \u001b[0mcolumns\u001b[0m\u001b[0;34m,\u001b[0m \u001b[0mdtype\u001b[0m\u001b[0;34m=\u001b[0m\u001b[0mdtype\u001b[0m\u001b[0;34m,\u001b[0m \u001b[0mcopy\u001b[0m\u001b[0;34m=\u001b[0m\u001b[0mcopy\u001b[0m\u001b[0;34m,\u001b[0m \u001b[0mtyp\u001b[0m\u001b[0;34m=\u001b[0m\u001b[0mmanager\u001b[0m\u001b[0;34m)\u001b[0m\u001b[0;34m\u001b[0m\u001b[0;34m\u001b[0m\u001b[0m\n\u001b[0m\u001b[1;32m    637\u001b[0m         \u001b[0;32melif\u001b[0m \u001b[0misinstance\u001b[0m\u001b[0;34m(\u001b[0m\u001b[0mdata\u001b[0m\u001b[0;34m,\u001b[0m \u001b[0mma\u001b[0m\u001b[0;34m.\u001b[0m\u001b[0mMaskedArray\u001b[0m\u001b[0;34m)\u001b[0m\u001b[0;34m:\u001b[0m\u001b[0;34m\u001b[0m\u001b[0;34m\u001b[0m\u001b[0m\n\u001b[1;32m    638\u001b[0m             \u001b[0;32mimport\u001b[0m \u001b[0mnumpy\u001b[0m\u001b[0;34m.\u001b[0m\u001b[0mma\u001b[0m\u001b[0;34m.\u001b[0m\u001b[0mmrecords\u001b[0m \u001b[0;32mas\u001b[0m \u001b[0mmrecords\u001b[0m\u001b[0;34m\u001b[0m\u001b[0;34m\u001b[0m\u001b[0m\n",
      "\u001b[0;32m~/anaconda3/lib/python3.9/site-packages/pandas/core/internals/construction.py\u001b[0m in \u001b[0;36mdict_to_mgr\u001b[0;34m(data, index, columns, dtype, typ, copy)\u001b[0m\n\u001b[1;32m    500\u001b[0m         \u001b[0;31m# TODO: can we get rid of the dt64tz special case above?\u001b[0m\u001b[0;34m\u001b[0m\u001b[0;34m\u001b[0m\u001b[0m\n\u001b[1;32m    501\u001b[0m \u001b[0;34m\u001b[0m\u001b[0m\n\u001b[0;32m--> 502\u001b[0;31m     \u001b[0;32mreturn\u001b[0m \u001b[0marrays_to_mgr\u001b[0m\u001b[0;34m(\u001b[0m\u001b[0marrays\u001b[0m\u001b[0;34m,\u001b[0m \u001b[0mcolumns\u001b[0m\u001b[0;34m,\u001b[0m \u001b[0mindex\u001b[0m\u001b[0;34m,\u001b[0m \u001b[0mdtype\u001b[0m\u001b[0;34m=\u001b[0m\u001b[0mdtype\u001b[0m\u001b[0;34m,\u001b[0m \u001b[0mtyp\u001b[0m\u001b[0;34m=\u001b[0m\u001b[0mtyp\u001b[0m\u001b[0;34m,\u001b[0m \u001b[0mconsolidate\u001b[0m\u001b[0;34m=\u001b[0m\u001b[0mcopy\u001b[0m\u001b[0;34m)\u001b[0m\u001b[0;34m\u001b[0m\u001b[0;34m\u001b[0m\u001b[0m\n\u001b[0m\u001b[1;32m    503\u001b[0m \u001b[0;34m\u001b[0m\u001b[0m\n\u001b[1;32m    504\u001b[0m \u001b[0;34m\u001b[0m\u001b[0m\n",
      "\u001b[0;32m~/anaconda3/lib/python3.9/site-packages/pandas/core/internals/construction.py\u001b[0m in \u001b[0;36marrays_to_mgr\u001b[0;34m(arrays, columns, index, dtype, verify_integrity, typ, consolidate)\u001b[0m\n\u001b[1;32m    118\u001b[0m         \u001b[0;31m# figure out the index, if necessary\u001b[0m\u001b[0;34m\u001b[0m\u001b[0;34m\u001b[0m\u001b[0m\n\u001b[1;32m    119\u001b[0m         \u001b[0;32mif\u001b[0m \u001b[0mindex\u001b[0m \u001b[0;32mis\u001b[0m \u001b[0;32mNone\u001b[0m\u001b[0;34m:\u001b[0m\u001b[0;34m\u001b[0m\u001b[0;34m\u001b[0m\u001b[0m\n\u001b[0;32m--> 120\u001b[0;31m             \u001b[0mindex\u001b[0m \u001b[0;34m=\u001b[0m \u001b[0m_extract_index\u001b[0m\u001b[0;34m(\u001b[0m\u001b[0marrays\u001b[0m\u001b[0;34m)\u001b[0m\u001b[0;34m\u001b[0m\u001b[0;34m\u001b[0m\u001b[0m\n\u001b[0m\u001b[1;32m    121\u001b[0m         \u001b[0;32melse\u001b[0m\u001b[0;34m:\u001b[0m\u001b[0;34m\u001b[0m\u001b[0;34m\u001b[0m\u001b[0m\n\u001b[1;32m    122\u001b[0m             \u001b[0mindex\u001b[0m \u001b[0;34m=\u001b[0m \u001b[0mensure_index\u001b[0m\u001b[0;34m(\u001b[0m\u001b[0mindex\u001b[0m\u001b[0;34m)\u001b[0m\u001b[0;34m\u001b[0m\u001b[0;34m\u001b[0m\u001b[0m\n",
      "\u001b[0;32m~/anaconda3/lib/python3.9/site-packages/pandas/core/internals/construction.py\u001b[0m in \u001b[0;36m_extract_index\u001b[0;34m(data)\u001b[0m\n\u001b[1;32m    662\u001b[0m \u001b[0;34m\u001b[0m\u001b[0m\n\u001b[1;32m    663\u001b[0m         \u001b[0;32mif\u001b[0m \u001b[0;32mnot\u001b[0m \u001b[0mindexes\u001b[0m \u001b[0;32mand\u001b[0m \u001b[0;32mnot\u001b[0m \u001b[0mraw_lengths\u001b[0m\u001b[0;34m:\u001b[0m\u001b[0;34m\u001b[0m\u001b[0;34m\u001b[0m\u001b[0m\n\u001b[0;32m--> 664\u001b[0;31m             \u001b[0;32mraise\u001b[0m \u001b[0mValueError\u001b[0m\u001b[0;34m(\u001b[0m\u001b[0;34m\"If using all scalar values, you must pass an index\"\u001b[0m\u001b[0;34m)\u001b[0m\u001b[0;34m\u001b[0m\u001b[0;34m\u001b[0m\u001b[0m\n\u001b[0m\u001b[1;32m    665\u001b[0m \u001b[0;34m\u001b[0m\u001b[0m\n\u001b[1;32m    666\u001b[0m         \u001b[0;32melif\u001b[0m \u001b[0mhave_series\u001b[0m\u001b[0;34m:\u001b[0m\u001b[0;34m\u001b[0m\u001b[0;34m\u001b[0m\u001b[0m\n",
      "\u001b[0;31mValueError\u001b[0m: If using all scalar values, you must pass an index"
     ]
    }
   ],
   "source": [
    "total_addr = pd.DataFrame()\n",
    "# 주소 고유값 사용\n",
    "for addr in AptTrade_addr_list:\n",
    "    print(addr)\n",
    "    # 에러 발생 방지 위해 try 함수 사용\n",
    "    try:\n",
    "        # addr_to_lat_lon함수를 사용하여 위경도 추출\n",
    "        df = addr_to_lat_lon(addr_to_lat_lon)\n",
    "        # pd.concat를 사용하여 total_addr에 붙힘\n",
    "        total_addr = pd.concat([total_addr, df])\n",
    "    except:\n",
    "        df = pd.DataFrame({'x': '0',\n",
    "                           'y': '0',\n",
    "                          '주소': addr})\n",
    "        total_addr = pd.concat([total_addr, df])\n",
    "\n",
    "        "
   ]
  },
  {
   "cell_type": "code",
   "execution_count": 13,
   "id": "8b76b04e",
   "metadata": {},
   "outputs": [
    {
     "ename": "NameError",
     "evalue": "name 'total_addr' is not defined",
     "output_type": "error",
     "traceback": [
      "\u001b[0;31m---------------------------------------------------------------------------\u001b[0m",
      "\u001b[0;31mNameError\u001b[0m                                 Traceback (most recent call last)",
      "\u001b[0;32m/tmp/ipykernel_2028/1551931107.py\u001b[0m in \u001b[0;36m<module>\u001b[0;34m\u001b[0m\n\u001b[1;32m      1\u001b[0m \u001b[0;31m# 새로운 데이터 생성\u001b[0m\u001b[0;34m\u001b[0m\u001b[0;34m\u001b[0m\u001b[0m\n\u001b[0;32m----> 2\u001b[0;31m \u001b[0mAptTrade_addr_df\u001b[0m \u001b[0;34m=\u001b[0m \u001b[0mtotal_addr\u001b[0m\u001b[0;34m\u001b[0m\u001b[0;34m\u001b[0m\u001b[0m\n\u001b[0m\u001b[1;32m      3\u001b[0m \u001b[0mAptTrade_addr_df\u001b[0m\u001b[0;34m.\u001b[0m\u001b[0mto_csv\u001b[0m\u001b[0;34m(\u001b[0m\u001b[0;34m'AptTrade_addr_df.csv'\u001b[0m\u001b[0;34m,\u001b[0m \u001b[0mindex\u001b[0m \u001b[0;34m=\u001b[0m \u001b[0;32mFalse\u001b[0m\u001b[0;34m)\u001b[0m\u001b[0;34m\u001b[0m\u001b[0;34m\u001b[0m\u001b[0m\n",
      "\u001b[0;31mNameError\u001b[0m: name 'total_addr' is not defined"
     ]
    }
   ],
   "source": [
    "# 새로운 데이터 생성\n",
    "AptTrade_addr_df = total_addr\n",
    "AptTrade_addr_df.to_csv('AptTrade_addr_df.csv', index = False)"
   ]
  },
  {
   "cell_type": "markdown",
   "id": "14082b0f",
   "metadata": {},
   "source": [
    "## merge 2\n"
   ]
  },
  {
   "cell_type": "code",
   "execution_count": 33,
   "id": "97851d7f",
   "metadata": {},
   "outputs": [
    {
     "ename": "SyntaxError",
     "evalue": "invalid syntax (1437177212.py, line 3)",
     "output_type": "error",
     "traceback": [
      "\u001b[0;36m  File \u001b[0;32m\"/tmp/ipykernel_2028/1437177212.py\"\u001b[0;36m, line \u001b[0;32m3\u001b[0m\n\u001b[0;31m    how = 'left')\u001b[0m\n\u001b[0m    ^\u001b[0m\n\u001b[0;31mSyntaxError\u001b[0m\u001b[0;31m:\u001b[0m invalid syntax\n"
     ]
    }
   ],
   "source": [
    "AptTrade_Total_3 = pd.merge(AptTrade_Total_2, AptTrade_addr_df,\n",
    "        on = '주소'\n",
    "        how = 'left')"
   ]
  },
  {
   "cell_type": "code",
   "execution_count": null,
   "id": "97590d94",
   "metadata": {},
   "outputs": [],
   "source": [
    "AptTrade_Total_3.to_csv('AptTrade_Total_3.csv', index = False)"
   ]
  },
  {
   "cell_type": "code",
   "execution_count": null,
   "id": "2d98a05e",
   "metadata": {},
   "outputs": [],
   "source": []
  },
  {
   "cell_type": "code",
   "execution_count": null,
   "id": "318dfc28",
   "metadata": {},
   "outputs": [],
   "source": [
    "total_addr = pd.DataFrame()\n",
    "# 주소 고유값 사용\n",
    "for addr in AptRent_addr_list:\n",
    "    print(addr)\n",
    "    # 에러 발생 방지 위해 try 함수 사용\n",
    "    try:\n",
    "        # addr_to_lat_lon함수를 사용하여 위경도 추출\n",
    "        df = addr_to_lat_lon(addr_to_lat_lon)\n",
    "        # pd.concat를 사용하여 total_addr에 붙힘\n",
    "        total_addr = pd.concat([total_addr, df])\n",
    "    except:\n",
    "        df = pd.DataFrame({'x': '0',\n",
    "                           'y': '0',\n",
    "                          '주소': addr})\n",
    "        total_addr = pd.concat([total_addr, df])\n",
    "\n",
    "# 새로운 데이터 생성\n",
    "AptRent_addr_df = total_addr\n",
    "AptRent_addr_df.to_csv('AptRent_addr_df.csv', index = False)        "
   ]
  },
  {
   "cell_type": "code",
   "execution_count": null,
   "id": "e57d15d3",
   "metadata": {},
   "outputs": [],
   "source": [
    "\n",
    "AptRent_Total_3 = pd.merge(AptRent_Total_2, AptRent_addr_df,\n",
    "        on = '주소'\n",
    "        how = 'left')"
   ]
  },
  {
   "cell_type": "code",
   "execution_count": null,
   "id": "2e1432c7",
   "metadata": {},
   "outputs": [],
   "source": [
    "AptRent_Total_3.to_csv('AptRent_Total_3.csv', index = False)"
   ]
  }
 ],
 "metadata": {
  "kernelspec": {
   "display_name": "Python 3 (ipykernel)",
   "language": "python",
   "name": "python3"
  },
  "language_info": {
   "codemirror_mode": {
    "name": "ipython",
    "version": 3
   },
   "file_extension": ".py",
   "mimetype": "text/x-python",
   "name": "python",
   "nbconvert_exporter": "python",
   "pygments_lexer": "ipython3",
   "version": "3.9.13"
  },
  "toc": {
   "base_numbering": 1,
   "nav_menu": {},
   "number_sections": true,
   "sideBar": true,
   "skip_h1_title": false,
   "title_cell": "Table of Contents",
   "title_sidebar": "Contents",
   "toc_cell": false,
   "toc_position": {
    "height": "620.909px",
    "left": "22px",
    "top": "110.781px",
    "width": "279.233px"
   },
   "toc_section_display": true,
   "toc_window_display": false
  }
 },
 "nbformat": 4,
 "nbformat_minor": 5
}
